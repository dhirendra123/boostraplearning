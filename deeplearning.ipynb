{
  "nbformat": 4,
  "nbformat_minor": 0,
  "metadata": {
    "colab": {
      "name": "deeplearning.ipynb",
      "provenance": [],
      "authorship_tag": "ABX9TyP2bmjUwQvnLb6VSemLoMbv",
      "include_colab_link": true
    },
    "kernelspec": {
      "name": "python3",
      "display_name": "Python 3"
    }
  },
  "cells": [
    {
      "cell_type": "markdown",
      "metadata": {
        "id": "view-in-github",
        "colab_type": "text"
      },
      "source": [
        "<a href=\"https://colab.research.google.com/github/dhirendra123/boostraplearning/blob/master/deeplearning.ipynb\" target=\"_parent\"><img src=\"https://colab.research.google.com/assets/colab-badge.svg\" alt=\"Open In Colab\"/></a>"
      ]
    },
    {
      "cell_type": "code",
      "metadata": {
        "id": "mUl8_PCnNG14",
        "colab_type": "code",
        "colab": {}
      },
      "source": [
        "import tensorflow as tf "
      ],
      "execution_count": 0,
      "outputs": []
    },
    {
      "cell_type": "code",
      "metadata": {
        "id": "oHZBuUAoNVu3",
        "colab_type": "code",
        "outputId": "f01191d5-bb51-42a4-f4b4-a53821785b7a",
        "colab": {
          "base_uri": "https://localhost:8080/",
          "height": 35
        }
      },
      "source": [
        "tf.__version__"
      ],
      "execution_count": 2,
      "outputs": [
        {
          "output_type": "execute_result",
          "data": {
            "text/plain": [
              "'2.2.0'"
            ]
          },
          "metadata": {
            "tags": []
          },
          "execution_count": 2
        }
      ]
    },
    {
      "cell_type": "code",
      "metadata": {
        "id": "Sr1qzaHL0ZWB",
        "colab_type": "code",
        "outputId": "75101b48-9120-40b9-b060-88efbe262e14",
        "colab": {
          "base_uri": "https://localhost:8080/",
          "height": 35
        }
      },
      "source": [
        "hello =tf.constant(\"hello\") # creating a constant \n",
        "hello"
      ],
      "execution_count": 3,
      "outputs": [
        {
          "output_type": "execute_result",
          "data": {
            "text/plain": [
              "<tf.Tensor: shape=(), dtype=string, numpy=b'hello'>"
            ]
          },
          "metadata": {
            "tags": []
          },
          "execution_count": 3
        }
      ]
    },
    {
      "cell_type": "code",
      "metadata": {
        "id": "AyiHWjgt1niH",
        "colab_type": "code",
        "outputId": "59b76993-f073-404b-f3ba-5145a048c800",
        "colab": {
          "base_uri": "https://localhost:8080/",
          "height": 35
        }
      },
      "source": [
        "world=tf.constant(\"world\") \n",
        "world"
      ],
      "execution_count": 4,
      "outputs": [
        {
          "output_type": "execute_result",
          "data": {
            "text/plain": [
              "<tf.Tensor: shape=(), dtype=string, numpy=b'world'>"
            ]
          },
          "metadata": {
            "tags": []
          },
          "execution_count": 4
        }
      ]
    },
    {
      "cell_type": "code",
      "metadata": {
        "id": "0CXi9IlV1sKc",
        "colab_type": "code",
        "outputId": "9d0e67ed-5f67-4e3c-906f-cdad1022060e",
        "colab": {
          "base_uri": "https://localhost:8080/",
          "height": 35
        }
      },
      "source": [
        "type(hello) #checking its type "
      ],
      "execution_count": 5,
      "outputs": [
        {
          "output_type": "execute_result",
          "data": {
            "text/plain": [
              "tensorflow.python.framework.ops.EagerTensor"
            ]
          },
          "metadata": {
            "tags": []
          },
          "execution_count": 5
        }
      ]
    },
    {
      "cell_type": "code",
      "metadata": {
        "id": "tTOIHJ-13Qs_",
        "colab_type": "code",
        "outputId": "9653b6f8-3b88-4a0e-f1cd-98c01bdc7229",
        "colab": {
          "base_uri": "https://localhost:8080/",
          "height": 35
        }
      },
      "source": [
        "with tf.compat.v1.Session() as sess:\n",
        "\n",
        "  a = tf.constant(5.0)\n",
        "  b = tf.constant(6.0)\n",
        "  c = tf.multiply(a, b)\n",
        "\n",
        "  result = sess.run(c)\n",
        "  print(result)"
      ],
      "execution_count": 6,
      "outputs": [
        {
          "output_type": "stream",
          "text": [
            "30.0\n"
          ],
          "name": "stdout"
        }
      ]
    },
    {
      "cell_type": "code",
      "metadata": {
        "id": "FVPMjxiS4L0v",
        "colab_type": "code",
        "outputId": "9fe351d9-0a61-4fef-99de-4dc13b930f0a",
        "colab": {
          "base_uri": "https://localhost:8080/",
          "height": 35
        }
      },
      "source": [
        "with tf.compat.v1.Session() as sess:\n",
        "  r=tf.constant(\"hello\")\n",
        "  c=sess.run(r)\n",
        "  print(c)"
      ],
      "execution_count": 7,
      "outputs": [
        {
          "output_type": "stream",
          "text": [
            "b'hello'\n"
          ],
          "name": "stdout"
        }
      ]
    },
    {
      "cell_type": "code",
      "metadata": {
        "id": "SdGUYCZt6qXe",
        "colab_type": "code",
        "colab": {
          "base_uri": "https://localhost:8080/",
          "height": 104
        },
        "outputId": "1003052b-1375-4376-e829-d6a8906522ec"
      },
      "source": [
        "with tf.compat.v1.Session() as sees:\n",
        "  ma_1=tf.zeros((5,5))\n",
        "  m2=sees.run(ma_1)\n",
        "  print(m2)"
      ],
      "execution_count": 19,
      "outputs": [
        {
          "output_type": "stream",
          "text": [
            "[[0. 0. 0. 0. 0.]\n",
            " [0. 0. 0. 0. 0.]\n",
            " [0. 0. 0. 0. 0.]\n",
            " [0. 0. 0. 0. 0.]\n",
            " [0. 0. 0. 0. 0.]]\n"
          ],
          "name": "stdout"
        }
      ]
    },
    {
      "cell_type": "code",
      "metadata": {
        "id": "NLc6LJz7sSv_",
        "colab_type": "code",
        "colab": {
          "base_uri": "https://localhost:8080/",
          "height": 225
        },
        "outputId": "b1cf827e-a374-48c1-c86d-d570077f3885"
      },
      "source": [
        "with tf.compat.v1.Session() as sees:\n",
        "  mat_1=tf.fill((5,5),10)\n",
        "  m3=tf.random.normal((5,5))\n",
        "  m2=sees.run(mat_1)\n",
        "  m5=sees.run(m3)\n",
        "  print(m2)\n",
        "  print ('\\n')\n",
        "  print(m5)"
      ],
      "execution_count": 26,
      "outputs": [
        {
          "output_type": "stream",
          "text": [
            "[[10 10 10 10 10]\n",
            " [10 10 10 10 10]\n",
            " [10 10 10 10 10]\n",
            " [10 10 10 10 10]\n",
            " [10 10 10 10 10]]\n",
            "\n",
            "\n",
            "[[-2.4408092  -0.7402636  -0.8390685   0.28572863 -0.11664183]\n",
            " [-1.1892618   0.098507   -0.74252486  0.47722095  2.8380084 ]\n",
            " [ 1.0259771   2.8955739   0.97385603 -1.9901167   0.20364812]\n",
            " [ 0.500339   -1.6789699  -0.29832155 -0.693038    0.46616098]\n",
            " [-1.5910883  -2.5396018   1.0188396   0.51363105  1.7086931 ]]\n"
          ],
          "name": "stdout"
        }
      ]
    },
    {
      "cell_type": "code",
      "metadata": {
        "id": "xio6azS0sVLb",
        "colab_type": "code",
        "colab": {}
      },
      "source": [
        ""
      ],
      "execution_count": 0,
      "outputs": []
    }
  ]
}